{
 "cells": [
  {
   "cell_type": "code",
   "execution_count": 2,
   "metadata": {},
   "outputs": [],
   "source": [
    "import numpy as np \n",
    "import pandas as pd \n",
    "import matplotlib.pyplot as plt "
   ]
  },
  {
   "cell_type": "code",
   "execution_count": 12,
   "metadata": {},
   "outputs": [],
   "source": [
    "data = pd.read_csv(\"eksikveriler.csv\")"
   ]
  },
  {
   "cell_type": "code",
   "execution_count": 54,
   "metadata": {},
   "outputs": [],
   "source": [
    "from sklearn.impute import SimpleImputer\n",
    "\n",
    "imputer = SimpleImputer(missing_values=np.nan,strategy=\"mean\")\n",
    "yas =data.iloc[:,1:4].values\n",
    "imputer = imputer.fit(yas[:,1:4])\n",
    "yas[:,1:4] = imputer.transform(yas[:,1:4])\n",
    "ulke = data.iloc[:,0:1].values\n",
    "\n",
    "from sklearn import preprocessing\n",
    "le =preprocessing.LabelEncoder()\n",
    "ulke[:,0]=le.fit_transform(data.iloc[:,0])\n",
    "ohe=preprocessing.OneHotEncoder()\n",
    "ulke=ohe.fit_transform(ulke).toarray()"
   ]
  },
  {
   "cell_type": "code",
   "execution_count": 34,
   "metadata": {},
   "outputs": [],
   "source": [
    "sonuc = pd.DataFrame(data=ulke,index=range(22),columns=[\"fr\",\"tr\",\"us\"])\n",
    "sonuc2=pd.DataFrame(data=yas,index=range(22),columns=[\"boy\",\"kilo\",\"yas\"])\n",
    "cinsiyet = data.iloc[:,-1].values\n",
    "sonuc3=pd.DataFrame(data=cinsiyet,index=range(22),columns=[\"cinsiyet\"])\n",
    "s=pd.concat([sonuc,sonuc2],axis=1)\n",
    "s2=pd.concat([s,sonuc3],axis=1)\n"
   ]
  },
  {
   "cell_type": "code",
   "execution_count": 52,
   "metadata": {},
   "outputs": [],
   "source": [
    "from sklearn.model_selection import train_test_split\n",
    "x_train,x_test,y_train,y_test = train_test_split(s,sonuc3,test_size=0.33,random_state=0)\n",
    "from sklearn.preprocessing import StandardScaler\n",
    "\n",
    "sc=StandardScaler()\n",
    "X_train=sc.fit_transform(x_train)\n",
    "X_test = sc.fit_transform(x_test)   "
   ]
  },
  {
   "cell_type": "code",
   "execution_count": null,
   "metadata": {},
   "outputs": [],
   "source": []
  }
 ],
 "metadata": {
  "kernelspec": {
   "display_name": "Python 3",
   "language": "python",
   "name": "python3"
  },
  "language_info": {
   "codemirror_mode": {
    "name": "ipython",
    "version": 3
   },
   "file_extension": ".py",
   "mimetype": "text/x-python",
   "name": "python",
   "nbconvert_exporter": "python",
   "pygments_lexer": "ipython3",
   "version": "3.11.4"
  },
  "orig_nbformat": 4
 },
 "nbformat": 4,
 "nbformat_minor": 2
}
