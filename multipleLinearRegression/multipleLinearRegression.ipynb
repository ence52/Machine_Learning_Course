{
 "cells": [
  {
   "cell_type": "code",
   "execution_count": 84,
   "metadata": {},
   "outputs": [],
   "source": [
    "import numpy as np \n",
    "import pandas as pd \n",
    "import matplotlib.pyplot as plt "
   ]
  },
  {
   "attachments": {},
   "cell_type": "markdown",
   "metadata": {},
   "source": [
    "Reading data"
   ]
  },
  {
   "cell_type": "code",
   "execution_count": 85,
   "metadata": {},
   "outputs": [],
   "source": [
    "data = pd.read_csv(\"veriler.csv\")"
   ]
  },
  {
   "cell_type": "code",
   "execution_count": 86,
   "metadata": {},
   "outputs": [],
   "source": [
    "yas =data.iloc[:,1:4].values\n",
    "ulke = data.iloc[:,0:1].values\n",
    "\n",
    "from sklearn import preprocessing\n",
    "le =preprocessing.LabelEncoder()\n",
    "ulke[:,0]=le.fit_transform(data.iloc[:,0])\n",
    "ohe=preprocessing.OneHotEncoder()\n",
    "ulke=ohe.fit_transform(ulke).toarray()"
   ]
  },
  {
   "cell_type": "code",
   "execution_count": 87,
   "metadata": {},
   "outputs": [],
   "source": [
    "c = data.iloc[:,-1:].values\n",
    "\n",
    "from sklearn import preprocessing\n",
    "le =preprocessing.LabelEncoder()\n",
    "c[:,-1]=le.fit_transform(data.iloc[:,-1])\n",
    "ohe=preprocessing.OneHotEncoder()\n",
    "c=ohe.fit_transform(c).toarray()\n"
   ]
  },
  {
   "cell_type": "code",
   "execution_count": 88,
   "metadata": {},
   "outputs": [],
   "source": [
    "sonuc = pd.DataFrame(data=ulke,index=range(22),columns=[\"fr\",\"tr\",\"us\"])\n",
    "sonuc2=pd.DataFrame(data=yas,index=range(22),columns=[\"boy\",\"kilo\",\"yas\"])\n",
    "cinsiyet = data.iloc[:,-1].values\n",
    "sonuc3=pd.DataFrame(data=c[:,:1],index=range(22),columns=[\"cinsiyet\"])\n",
    "s=pd.concat([sonuc,sonuc2],axis=1)\n",
    "s2=pd.concat([s,sonuc3],axis=1)"
   ]
  },
  {
   "attachments": {},
   "cell_type": "markdown",
   "metadata": {},
   "source": [
    "Splitting Data"
   ]
  },
  {
   "cell_type": "code",
   "execution_count": 89,
   "metadata": {},
   "outputs": [],
   "source": [
    "from sklearn.model_selection import train_test_split\n",
    "x_train,x_test,y_train,y_test = train_test_split(s,sonuc3,test_size=0.33,random_state=0)"
   ]
  },
  {
   "attachments": {},
   "cell_type": "markdown",
   "metadata": {},
   "source": [
    "Scaling"
   ]
  },
  {
   "cell_type": "code",
   "execution_count": 90,
   "metadata": {},
   "outputs": [],
   "source": [
    "from sklearn.preprocessing import StandardScaler\n",
    "\n",
    "sc=StandardScaler()\n",
    "X_train=sc.fit_transform(x_train)\n",
    "X_test = sc.fit_transform(x_test)"
   ]
  },
  {
   "attachments": {},
   "cell_type": "markdown",
   "metadata": {},
   "source": [
    "Prediction"
   ]
  },
  {
   "cell_type": "code",
   "execution_count": 91,
   "metadata": {},
   "outputs": [],
   "source": [
    "from sklearn.linear_model import LinearRegression\n",
    "regressor = LinearRegression()\n",
    "regressor.fit(x_train,y_train)\n",
    "\n",
    "y_pred = regressor.predict(x_test)"
   ]
  },
  {
   "attachments": {},
   "cell_type": "markdown",
   "metadata": {},
   "source": [
    "New model for boy(height)"
   ]
  },
  {
   "cell_type": "code",
   "execution_count": 102,
   "metadata": {},
   "outputs": [],
   "source": [
    "boy=s2.iloc[:,3:4].values\n",
    "sol=s2.iloc[:, :3]\n",
    "sag=s2.iloc[:,4:]\n",
    "veri=pd.concat([sol,sag],axis=1)"
   ]
  },
  {
   "cell_type": "code",
   "execution_count": 105,
   "metadata": {},
   "outputs": [],
   "source": [
    "x_train,x_test,y_train,y_test = train_test_split(veri,boy,test_size=0.33,random_state=0)"
   ]
  },
  {
   "cell_type": "code",
   "execution_count": 110,
   "metadata": {},
   "outputs": [],
   "source": [
    "\n",
    "regressor2 = LinearRegression()\n",
    "regressor2.fit(x_train,y_train)\n",
    "\n",
    "y_pred = regressor2.predict(x_test)"
   ]
  }
 ],
 "metadata": {
  "kernelspec": {
   "display_name": "Python 3",
   "language": "python",
   "name": "python3"
  },
  "language_info": {
   "codemirror_mode": {
    "name": "ipython",
    "version": 3
   },
   "file_extension": ".py",
   "mimetype": "text/x-python",
   "name": "python",
   "nbconvert_exporter": "python",
   "pygments_lexer": "ipython3",
   "version": "3.11.4"
  },
  "orig_nbformat": 4
 },
 "nbformat": 4,
 "nbformat_minor": 2
}
